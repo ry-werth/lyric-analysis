{
 "cells": [
  {
   "cell_type": "code",
   "execution_count": 21,
   "metadata": {},
   "outputs": [],
   "source": [
    "from spacy_preprocessor import SpacyPreprocessor\n",
    "import sqlalchemy as db\n",
    "import pandas as pd\n",
    "import scattertext as st"
   ]
  },
  {
   "cell_type": "markdown",
   "metadata": {},
   "source": [
    "# Import Database"
   ]
  },
  {
   "cell_type": "code",
   "execution_count": 2,
   "metadata": {},
   "outputs": [],
   "source": [
    "engine = db.create_engine('postgresql://localhost:5432/lyricsdb')\n",
    "connection = engine.connect()\n",
    "metadata = db.MetaData()\n",
    "artists = db.Table('artists', metadata, autoload=True, autoload_with=engine)\n",
    "songs = db.Table('songs', metadata, autoload=True, autoload_with=engine)"
   ]
  },
  {
   "cell_type": "code",
   "execution_count": 3,
   "metadata": {},
   "outputs": [],
   "source": [
    "query = 'SELECT * FROM songs;'\n",
    "song_df_db = pd.read_sql(query, connection)"
   ]
  },
  {
   "cell_type": "code",
   "execution_count": 4,
   "metadata": {},
   "outputs": [],
   "source": [
    "query = 'SELECT * FROM artists;'\n",
    "artist_df_db = pd.read_sql(query, connection)"
   ]
  },
  {
   "cell_type": "markdown",
   "metadata": {},
   "source": [
    "# Grab Songs"
   ]
  },
  {
   "cell_type": "code",
   "execution_count": 5,
   "metadata": {},
   "outputs": [],
   "source": [
    "normal_songs = song_df_db[(song_df_db[\"lyrics\"].str.len() <= 3500) & (song_df_db[\"lyrics\"].str.len() >= 400)]"
   ]
  },
  {
   "cell_type": "code",
   "execution_count": 13,
   "metadata": {},
   "outputs": [
    {
     "data": {
      "text/html": [
       "<div>\n",
       "<style scoped>\n",
       "    .dataframe tbody tr th:only-of-type {\n",
       "        vertical-align: middle;\n",
       "    }\n",
       "\n",
       "    .dataframe tbody tr th {\n",
       "        vertical-align: top;\n",
       "    }\n",
       "\n",
       "    .dataframe thead th {\n",
       "        text-align: right;\n",
       "    }\n",
       "</style>\n",
       "<table border=\"1\" class=\"dataframe\">\n",
       "  <thead>\n",
       "    <tr style=\"text-align: right;\">\n",
       "      <th></th>\n",
       "      <th>artist_id</th>\n",
       "      <th>song_title</th>\n",
       "      <th>lyrics</th>\n",
       "    </tr>\n",
       "  </thead>\n",
       "  <tbody>\n",
       "    <tr>\n",
       "      <td>2</td>\n",
       "      <td>347</td>\n",
       "      <td>Okie from Muskogee</td>\n",
       "      <td>We don't smoke marijuana in Muskogee\\nWe don't...</td>\n",
       "    </tr>\n",
       "    <tr>\n",
       "      <td>3</td>\n",
       "      <td>347</td>\n",
       "      <td>Mama Tried</td>\n",
       "      <td>The first thing I remember knowing\\nWas a lone...</td>\n",
       "    </tr>\n",
       "    <tr>\n",
       "      <td>4</td>\n",
       "      <td>347</td>\n",
       "      <td>One Day at a Time</td>\n",
       "      <td>I'm only human, I'm just a man\\nHelp me to bel...</td>\n",
       "    </tr>\n",
       "    <tr>\n",
       "      <td>5</td>\n",
       "      <td>347</td>\n",
       "      <td>Sing Me Back Home</td>\n",
       "      <td>The warden led a prisoner down the hallway to ...</td>\n",
       "    </tr>\n",
       "    <tr>\n",
       "      <td>6</td>\n",
       "      <td>347</td>\n",
       "      <td>That’s the Way Love Goes</td>\n",
       "      <td>I've been throwing horseshoes over my left sho...</td>\n",
       "    </tr>\n",
       "  </tbody>\n",
       "</table>\n",
       "</div>"
      ],
      "text/plain": [
       "   artist_id                song_title  \\\n",
       "2        347        Okie from Muskogee   \n",
       "3        347                Mama Tried   \n",
       "4        347         One Day at a Time   \n",
       "5        347         Sing Me Back Home   \n",
       "6        347  That’s the Way Love Goes   \n",
       "\n",
       "                                              lyrics  \n",
       "2  We don't smoke marijuana in Muskogee\\nWe don't...  \n",
       "3  The first thing I remember knowing\\nWas a lone...  \n",
       "4  I'm only human, I'm just a man\\nHelp me to bel...  \n",
       "5  The warden led a prisoner down the hallway to ...  \n",
       "6  I've been throwing horseshoes over my left sho...  "
      ]
     },
     "execution_count": 13,
     "metadata": {},
     "output_type": "execute_result"
    }
   ],
   "source": [
    "normal_songs.head()"
   ]
  },
  {
   "cell_type": "code",
   "execution_count": 74,
   "metadata": {},
   "outputs": [],
   "source": [
    "artist_1 = \"Bruce Springsteen\"\n",
    "artist_2 = \"Merle Haggard\""
   ]
  },
  {
   "cell_type": "code",
   "execution_count": 75,
   "metadata": {},
   "outputs": [],
   "source": [
    "artist_1_id = artist_df_db[artist_df_db[\"artist_name\"]==artist_1]['index'].tolist()[0]\n",
    "artist_2_id = artist_df_db[artist_df_db[\"artist_name\"]==artist_2]['index'].tolist()[0]\n",
    "artist_list = [artist_1_id, artist_2_id]"
   ]
  },
  {
   "cell_type": "code",
   "execution_count": 76,
   "metadata": {},
   "outputs": [],
   "source": [
    "two_artist_dataframe = normal_songs[normal_songs[\"artist_id\"].isin(artist_list)]"
   ]
  },
  {
   "cell_type": "code",
   "execution_count": 77,
   "metadata": {},
   "outputs": [
    {
     "data": {
      "text/html": [
       "<div>\n",
       "<style scoped>\n",
       "    .dataframe tbody tr th:only-of-type {\n",
       "        vertical-align: middle;\n",
       "    }\n",
       "\n",
       "    .dataframe tbody tr th {\n",
       "        vertical-align: top;\n",
       "    }\n",
       "\n",
       "    .dataframe thead th {\n",
       "        text-align: right;\n",
       "    }\n",
       "</style>\n",
       "<table border=\"1\" class=\"dataframe\">\n",
       "  <thead>\n",
       "    <tr style=\"text-align: right;\">\n",
       "      <th></th>\n",
       "      <th>artist_id</th>\n",
       "      <th>song_title</th>\n",
       "      <th>lyrics</th>\n",
       "    </tr>\n",
       "  </thead>\n",
       "  <tbody>\n",
       "    <tr>\n",
       "      <td>2</td>\n",
       "      <td>347</td>\n",
       "      <td>Okie from Muskogee</td>\n",
       "      <td>We don't smoke marijuana in Muskogee\\nWe don't...</td>\n",
       "    </tr>\n",
       "    <tr>\n",
       "      <td>3</td>\n",
       "      <td>347</td>\n",
       "      <td>Mama Tried</td>\n",
       "      <td>The first thing I remember knowing\\nWas a lone...</td>\n",
       "    </tr>\n",
       "    <tr>\n",
       "      <td>4</td>\n",
       "      <td>347</td>\n",
       "      <td>One Day at a Time</td>\n",
       "      <td>I'm only human, I'm just a man\\nHelp me to bel...</td>\n",
       "    </tr>\n",
       "    <tr>\n",
       "      <td>5</td>\n",
       "      <td>347</td>\n",
       "      <td>Sing Me Back Home</td>\n",
       "      <td>The warden led a prisoner down the hallway to ...</td>\n",
       "    </tr>\n",
       "    <tr>\n",
       "      <td>6</td>\n",
       "      <td>347</td>\n",
       "      <td>That’s the Way Love Goes</td>\n",
       "      <td>I've been throwing horseshoes over my left sho...</td>\n",
       "    </tr>\n",
       "    <tr>\n",
       "      <td>...</td>\n",
       "      <td>...</td>\n",
       "      <td>...</td>\n",
       "      <td>...</td>\n",
       "    </tr>\n",
       "    <tr>\n",
       "      <td>24956</td>\n",
       "      <td>1310</td>\n",
       "      <td>Darkness on the Edge of Town [MTV Plugged]</td>\n",
       "      <td>They're still racing out at the Trestles\\nBut ...</td>\n",
       "    </tr>\n",
       "    <tr>\n",
       "      <td>24957</td>\n",
       "      <td>1310</td>\n",
       "      <td>Nebraska (1982)</td>\n",
       "      <td>I saw her standing on her front lawn just twir...</td>\n",
       "    </tr>\n",
       "    <tr>\n",
       "      <td>24958</td>\n",
       "      <td>1310</td>\n",
       "      <td>4th of July, Asbury Park (Sandy) [Magic Tour H...</td>\n",
       "      <td>Sandy, the fireworks are hailing over Little E...</td>\n",
       "    </tr>\n",
       "    <tr>\n",
       "      <td>24959</td>\n",
       "      <td>1310</td>\n",
       "      <td>The Ghost of Tom Joad [Magic Tour Highlights]</td>\n",
       "      <td>Men walking along the railroad tracks\\nGoing s...</td>\n",
       "    </tr>\n",
       "    <tr>\n",
       "      <td>24960</td>\n",
       "      <td>1310</td>\n",
       "      <td>Nebraska BS (1982)</td>\n",
       "      <td>I saw her standin' on her front lawn just twir...</td>\n",
       "    </tr>\n",
       "  </tbody>\n",
       "</table>\n",
       "<p>1229 rows × 3 columns</p>\n",
       "</div>"
      ],
      "text/plain": [
       "      artist_id                                         song_title  \\\n",
       "2           347                                 Okie from Muskogee   \n",
       "3           347                                         Mama Tried   \n",
       "4           347                                  One Day at a Time   \n",
       "5           347                                  Sing Me Back Home   \n",
       "6           347                           That’s the Way Love Goes   \n",
       "...         ...                                                ...   \n",
       "24956      1310         Darkness on the Edge of Town [MTV Plugged]   \n",
       "24957      1310                                    Nebraska (1982)   \n",
       "24958      1310  4th of July, Asbury Park (Sandy) [Magic Tour H...   \n",
       "24959      1310      The Ghost of Tom Joad [Magic Tour Highlights]   \n",
       "24960      1310                                 Nebraska BS (1982)   \n",
       "\n",
       "                                                  lyrics  \n",
       "2      We don't smoke marijuana in Muskogee\\nWe don't...  \n",
       "3      The first thing I remember knowing\\nWas a lone...  \n",
       "4      I'm only human, I'm just a man\\nHelp me to bel...  \n",
       "5      The warden led a prisoner down the hallway to ...  \n",
       "6      I've been throwing horseshoes over my left sho...  \n",
       "...                                                  ...  \n",
       "24956  They're still racing out at the Trestles\\nBut ...  \n",
       "24957  I saw her standing on her front lawn just twir...  \n",
       "24958  Sandy, the fireworks are hailing over Little E...  \n",
       "24959  Men walking along the railroad tracks\\nGoing s...  \n",
       "24960  I saw her standin' on her front lawn just twir...  \n",
       "\n",
       "[1229 rows x 3 columns]"
      ]
     },
     "execution_count": 77,
     "metadata": {},
     "output_type": "execute_result"
    }
   ],
   "source": [
    "two_artist_dataframe[\"artist_id\"] = two_artist_dataframe[\"artist_id\"].astype(str)\n",
    "two_artist_dataframe"
   ]
  },
  {
   "cell_type": "markdown",
   "metadata": {},
   "source": [
    "# Remove duplicate songs"
   ]
  },
  {
   "cell_type": "code",
   "execution_count": 78,
   "metadata": {},
   "outputs": [],
   "source": [
    "song_titles_dict = {}\n",
    "index_removal_list = []\n",
    "for i, row in two_artist_dataframe.iterrows():\n",
    "    artist_id = row[\"artist_id\"]\n",
    "    if artist_id in song_titles_dict.keys():  \n",
    "        for song in song_titles_dict[artist_id]:\n",
    "            if row[\"song_title\"] in song or song in row[\"song_title\"]:\n",
    "                # print(row[\"song_title\"])\n",
    "                index_removal_list.append(i)\n",
    "        else:\n",
    "            song_titles_dict[artist_id].append(row[\"song_title\"])\n",
    "    else: \n",
    "        song_titles_dict[artist_id] = [row[\"song_title\"]]"
   ]
  },
  {
   "cell_type": "code",
   "execution_count": 79,
   "metadata": {},
   "outputs": [
    {
     "data": {
      "text/html": [
       "<div>\n",
       "<style scoped>\n",
       "    .dataframe tbody tr th:only-of-type {\n",
       "        vertical-align: middle;\n",
       "    }\n",
       "\n",
       "    .dataframe tbody tr th {\n",
       "        vertical-align: top;\n",
       "    }\n",
       "\n",
       "    .dataframe thead th {\n",
       "        text-align: right;\n",
       "    }\n",
       "</style>\n",
       "<table border=\"1\" class=\"dataframe\">\n",
       "  <thead>\n",
       "    <tr style=\"text-align: right;\">\n",
       "      <th></th>\n",
       "      <th>artist_id</th>\n",
       "      <th>song_title</th>\n",
       "      <th>lyrics</th>\n",
       "    </tr>\n",
       "  </thead>\n",
       "  <tbody>\n",
       "    <tr>\n",
       "      <td>2</td>\n",
       "      <td>347</td>\n",
       "      <td>Okie from Muskogee</td>\n",
       "      <td>We don't smoke marijuana in Muskogee\\nWe don't...</td>\n",
       "    </tr>\n",
       "    <tr>\n",
       "      <td>3</td>\n",
       "      <td>347</td>\n",
       "      <td>Mama Tried</td>\n",
       "      <td>The first thing I remember knowing\\nWas a lone...</td>\n",
       "    </tr>\n",
       "    <tr>\n",
       "      <td>4</td>\n",
       "      <td>347</td>\n",
       "      <td>One Day at a Time</td>\n",
       "      <td>I'm only human, I'm just a man\\nHelp me to bel...</td>\n",
       "    </tr>\n",
       "    <tr>\n",
       "      <td>5</td>\n",
       "      <td>347</td>\n",
       "      <td>Sing Me Back Home</td>\n",
       "      <td>The warden led a prisoner down the hallway to ...</td>\n",
       "    </tr>\n",
       "    <tr>\n",
       "      <td>6</td>\n",
       "      <td>347</td>\n",
       "      <td>That’s the Way Love Goes</td>\n",
       "      <td>I've been throwing horseshoes over my left sho...</td>\n",
       "    </tr>\n",
       "    <tr>\n",
       "      <td>...</td>\n",
       "      <td>...</td>\n",
       "      <td>...</td>\n",
       "      <td>...</td>\n",
       "    </tr>\n",
       "    <tr>\n",
       "      <td>24938</td>\n",
       "      <td>1310</td>\n",
       "      <td>Say Sons</td>\n",
       "      <td>Well, I got a little girl down by the river\\nN...</td>\n",
       "    </tr>\n",
       "    <tr>\n",
       "      <td>24941</td>\n",
       "      <td>1310</td>\n",
       "      <td>Without You</td>\n",
       "      <td>Monday, I go to work\\nTuesday, can't find my s...</td>\n",
       "    </tr>\n",
       "    <tr>\n",
       "      <td>24943</td>\n",
       "      <td>1310</td>\n",
       "      <td>Can’t Stand Losing You</td>\n",
       "      <td>I've called you so many times today\\nAnd i gue...</td>\n",
       "    </tr>\n",
       "    <tr>\n",
       "      <td>24944</td>\n",
       "      <td>1310</td>\n",
       "      <td>Sociedade Alternativa</td>\n",
       "      <td>Viva! Viva!\\nViva a Sociedade Alternativa!\\nVi...</td>\n",
       "    </tr>\n",
       "    <tr>\n",
       "      <td>24947</td>\n",
       "      <td>1310</td>\n",
       "      <td>Look Toward The Land</td>\n",
       "      <td>Live performance\\nWell, I dreamed I was a gyps...</td>\n",
       "    </tr>\n",
       "  </tbody>\n",
       "</table>\n",
       "<p>1085 rows × 3 columns</p>\n",
       "</div>"
      ],
      "text/plain": [
       "      artist_id                song_title  \\\n",
       "2           347        Okie from Muskogee   \n",
       "3           347                Mama Tried   \n",
       "4           347         One Day at a Time   \n",
       "5           347         Sing Me Back Home   \n",
       "6           347  That’s the Way Love Goes   \n",
       "...         ...                       ...   \n",
       "24938      1310                  Say Sons   \n",
       "24941      1310               Without You   \n",
       "24943      1310    Can’t Stand Losing You   \n",
       "24944      1310     Sociedade Alternativa   \n",
       "24947      1310      Look Toward The Land   \n",
       "\n",
       "                                                  lyrics  \n",
       "2      We don't smoke marijuana in Muskogee\\nWe don't...  \n",
       "3      The first thing I remember knowing\\nWas a lone...  \n",
       "4      I'm only human, I'm just a man\\nHelp me to bel...  \n",
       "5      The warden led a prisoner down the hallway to ...  \n",
       "6      I've been throwing horseshoes over my left sho...  \n",
       "...                                                  ...  \n",
       "24938  Well, I got a little girl down by the river\\nN...  \n",
       "24941  Monday, I go to work\\nTuesday, can't find my s...  \n",
       "24943  I've called you so many times today\\nAnd i gue...  \n",
       "24944  Viva! Viva!\\nViva a Sociedade Alternativa!\\nVi...  \n",
       "24947  Live performance\\nWell, I dreamed I was a gyps...  \n",
       "\n",
       "[1085 rows x 3 columns]"
      ]
     },
     "execution_count": 79,
     "metadata": {},
     "output_type": "execute_result"
    }
   ],
   "source": [
    "two_artist_dataframe.drop(index_removal_list, inplace=True, errors='ignore',)\n",
    "two_artist_dataframe"
   ]
  },
  {
   "cell_type": "markdown",
   "metadata": {},
   "source": [
    "# Remove Duplicate Lines in Song"
   ]
  },
  {
   "cell_type": "code",
   "execution_count": null,
   "metadata": {},
   "outputs": [],
   "source": []
  },
  {
   "cell_type": "markdown",
   "metadata": {},
   "source": [
    "# Create the scattertext"
   ]
  },
  {
   "cell_type": "code",
   "execution_count": 86,
   "metadata": {},
   "outputs": [
    {
     "name": "stderr",
     "output_type": "stream",
     "text": [
      "/Users/ryanwerth/opt/anaconda3/lib/python3.7/site-packages/sklearn/utils/deprecation.py:143: FutureWarning: The sklearn.feature_extraction.stop_words module is  deprecated in version 0.22 and will be removed in version 0.24. The corresponding classes / functions should instead be imported from sklearn.feature_extraction.text. Anything that cannot be imported from sklearn.feature_extraction.text is now part of the private API.\n",
      "  warnings.warn(message, FutureWarning)\n"
     ]
    }
   ],
   "source": [
    "from sklearn.feature_extraction.stop_words import ENGLISH_STOP_WORDS"
   ]
  },
  {
   "cell_type": "code",
   "execution_count": 87,
   "metadata": {},
   "outputs": [],
   "source": [
    "corpus = st.CorpusFromPandas(two_artist_dataframe,\n",
    "                             category_col='artist_id',\n",
    "                             text_col='lyrics',\n",
    "                             nlp=st.whitespace_nlp_with_sentences\n",
    "                            ).build().remove_terms(ENGLISH_STOP_WORDS, ignore_absences=True)"
   ]
  },
  {
   "cell_type": "code",
   "execution_count": 88,
   "metadata": {},
   "outputs": [],
   "source": [
    "html = st.produce_scattertext_explorer(\n",
    "        corpus,\n",
    "        category='347',\n",
    "        category_name='Merle Haggard',\n",
    "        not_category_name='Bruce Springsteen',\n",
    "        minimum_term_frequency=10,\n",
    "        pmi_threshold_coefficient=5,\n",
    "        width_in_pixels=1000,\n",
    "        metadata=two_artist_dataframe['song_title'],\n",
    "        )"
   ]
  },
  {
   "cell_type": "code",
   "execution_count": 89,
   "metadata": {},
   "outputs": [],
   "source": [
    "open('scattertext_demo.html', 'wb').write(html.encode('utf-8'));"
   ]
  },
  {
   "cell_type": "markdown",
   "metadata": {},
   "source": [
    "# Put in Function"
   ]
  },
  {
   "cell_type": "code",
   "execution_count": null,
   "metadata": {},
   "outputs": [],
   "source": [
    "def remove_duplicate_songs(artist_dataframe):\n",
    "    song_titles_dict = {}\n",
    "    index_removal_list = []\n",
    "    for i, row in artist_dataframe.iterrows():\n",
    "        artist_id = row[\"artist_id\"]\n",
    "        if artist_id in song_titles_dict.keys():  \n",
    "            for song in song_titles_dict[artist_id]:\n",
    "                if row[\"song_title\"] in song or song in row[\"song_title\"]:\n",
    "                    # print(row[\"song_title\"])\n",
    "                    index_removal_list.append(i)\n",
    "            else:\n",
    "                song_titles_dict[artist_id].append(row[\"song_title\"])\n",
    "        else: \n",
    "            song_titles_dict[artist_id] = [row[\"song_title\"]]"
   ]
  },
  {
   "cell_type": "code",
   "execution_count": null,
   "metadata": {},
   "outputs": [],
   "source": [
    "def create_scatter_text(artist_1, artist_2, artist_dataframe, song_dataframe, file_name):\n",
    "    "
   ]
  }
 ],
 "metadata": {
  "kernelspec": {
   "display_name": "Python 3",
   "language": "python",
   "name": "python3"
  },
  "language_info": {
   "codemirror_mode": {
    "name": "ipython",
    "version": 3
   },
   "file_extension": ".py",
   "mimetype": "text/x-python",
   "name": "python",
   "nbconvert_exporter": "python",
   "pygments_lexer": "ipython3",
   "version": "3.7.4"
  }
 },
 "nbformat": 4,
 "nbformat_minor": 2
}
