{
 "cells": [
  {
   "cell_type": "code",
   "execution_count": 1,
   "metadata": {},
   "outputs": [],
   "source": [
    "import pandas as pd\n",
    "import numpy as np\n",
    "from bs4 import BeautifulSoup\n",
    "import requests\n",
    "from selenium import webdriver\n",
    "from selenium.webdriver.common.keys import Keys\n",
    "import time\n",
    "import pickle\n",
    "import re\n",
    "import psycopg2 as pg\n",
    "from sqlalchemy import create_engine"
   ]
  },
  {
   "cell_type": "markdown",
   "metadata": {},
   "source": [
    "# In this notebook I grab all of the artists I will be using in my recommender app"
   ]
  },
  {
   "cell_type": "markdown",
   "metadata": {},
   "source": [
    "I gabbed them form different lists from [ranker.com](https://www.ranker.com/), a crowd sourced rankings site."
   ]
  },
  {
   "cell_type": "markdown",
   "metadata": {},
   "source": [
    "# Grab all rap artists\n",
    "\n",
    "[Rankers best rappers of all time](https://www.ranker.com/crowdranked-list/the-greatest-rappers-of-all-time)"
   ]
  },
  {
   "cell_type": "code",
   "execution_count": 2,
   "metadata": {},
   "outputs": [],
   "source": [
    "rap_url = \"https://www.ranker.com/crowdranked-list/the-greatest-rappers-of-all-time\""
   ]
  },
  {
   "cell_type": "code",
   "execution_count": 3,
   "metadata": {},
   "outputs": [
    {
     "data": {
      "text/plain": [
       "200"
      ]
     },
     "execution_count": 3,
     "metadata": {},
     "output_type": "execute_result"
    }
   ],
   "source": [
    "response = requests.get(rap_url)\n",
    "response.status_code"
   ]
  },
  {
   "cell_type": "code",
   "execution_count": 4,
   "metadata": {},
   "outputs": [
    {
     "data": {
      "text/plain": [
       "str"
      ]
     },
     "execution_count": 4,
     "metadata": {},
     "output_type": "execute_result"
    }
   ],
   "source": [
    "page = response.text\n",
    "type(page)"
   ]
  },
  {
   "cell_type": "markdown",
   "metadata": {},
   "source": [
    "We are using beautiful soup to scrape a list of rappers"
   ]
  },
  {
   "cell_type": "code",
   "execution_count": 5,
   "metadata": {},
   "outputs": [],
   "source": [
    "soup = BeautifulSoup(page, \"lxml\")"
   ]
  },
  {
   "cell_type": "code",
   "execution_count": 6,
   "metadata": {},
   "outputs": [],
   "source": [
    "soup.find_all(\"li\", {\"class\": \"gridItem_main__3gWq0\"});"
   ]
  },
  {
   "cell_type": "markdown",
   "metadata": {},
   "source": [
    "Looks like this is a dynamic page and we will need Selenium"
   ]
  },
  {
   "cell_type": "code",
   "execution_count": 7,
   "metadata": {},
   "outputs": [],
   "source": [
    "# make a function for scraping Ranker.com pages\n",
    "def get_ranker_list_as_dict(url):\n",
    "    \"\"\"\n",
    "    input the url for a Ranker page\n",
    "    outputs a list of dictionaries. One dictionary for each artist\n",
    "    \"\"\"\n",
    "    page_list=[]\n",
    "    # set the path and the driver \n",
    "    # comment it out because we dont want this cell running again\n",
    "    PATH=\"/Applications/chromedriver\"\n",
    "    driver = webdriver.Chrome(PATH)\n",
    "\n",
    "    # have the driver grab the url\n",
    "    driver.get(url)\n",
    "    # let it sleep for page to load\n",
    "    time.sleep(3)\n",
    "    more_left = True\n",
    "    while more_left:\n",
    "        # while there are more \"hidden items\" keep clicking load more button\n",
    "        try:\n",
    "            driver.find_element_by_link_text(\"LOAD MORE\").click()\n",
    "        except: \n",
    "            more_left = False\n",
    "            \n",
    "        # let it sleep to give it time to load next section\n",
    "        time.sleep(1)\n",
    "\n",
    "    # grab the page source. from the driver\n",
    "    html = driver.page_source\n",
    "    # pass the page sourse to beautiful soup\n",
    "    soup = BeautifulSoup(html)\n",
    "\n",
    "    # now we loop through the page with beautiful soup\n",
    "    artist_rows = soup.find_all(\"li\", {\"class\": \"gridItem_main__3gWq0\"});\n",
    "    for i, artist in enumerate(artist_rows):\n",
    "        # grab the artist name from the name element\n",
    "        name_holder = artist.find(\"meta\", itemprop=\"name\")\n",
    "        name=name_holder['content']\n",
    "\n",
    "        # grab the artist image url\n",
    "        picture_holder = artist.find(\"img\")\n",
    "        try:\n",
    "            picture_url = picture_holder['src']\n",
    "        except:\n",
    "            picture_url = picture_holder['data-src']\n",
    "\n",
    "        # make a dict for the artists and append to the page list\n",
    "        artist_dict = {\"name\": name, \"picture_url\": picture_url, \"ranker_ranking\": i}\n",
    "        page_list.append(artist_dict)\n",
    "\n",
    "    driver.close()\n",
    "    return(page_list)"
   ]
  },
  {
   "cell_type": "markdown",
   "metadata": {},
   "source": [
    "### this is the function we run to grab all the rap artists"
   ]
  },
  {
   "cell_type": "code",
   "execution_count": 8,
   "metadata": {},
   "outputs": [],
   "source": [
    "# rapper_list = get_ranker_list_as_dict(rap_url)"
   ]
  },
  {
   "cell_type": "code",
   "execution_count": 9,
   "metadata": {},
   "outputs": [],
   "source": [
    "# pickle the list of data\n",
    "# comment out so we dont re run\n",
    "\"\"\"\n",
    "with open('../artist_data/rapper_list.pkl', 'wb') as f:\n",
    "    pickle.dump(rapper_list, f)\n",
    "\"\"\";\n",
    "\n"
   ]
  },
  {
   "cell_type": "code",
   "execution_count": 10,
   "metadata": {},
   "outputs": [],
   "source": [
    "with open('../artist_data/rapper_list.pkl', 'rb') as f:\n",
    "    rapper_list = pickle.load(f)"
   ]
  },
  {
   "cell_type": "code",
   "execution_count": 11,
   "metadata": {},
   "outputs": [
    {
     "data": {
      "text/plain": [
       "223"
      ]
     },
     "execution_count": 11,
     "metadata": {},
     "output_type": "execute_result"
    }
   ],
   "source": [
    "len(rapper_list)"
   ]
  },
  {
   "cell_type": "markdown",
   "metadata": {},
   "source": [
    "# Get All Rap Groups\n",
    "\n",
    "[Rankers Best Grap Groups of all Time](https://www.ranker.com/crowdranked-list/overall-best-hip-hop-crew)"
   ]
  },
  {
   "cell_type": "code",
   "execution_count": 42,
   "metadata": {},
   "outputs": [],
   "source": [
    "rap_group_url = \"https://www.ranker.com/crowdranked-list/overall-best-hip-hop-crew\"\n",
    "# rap_group_list = get_ranker_list_as_dict(rap_group_url)"
   ]
  },
  {
   "cell_type": "code",
   "execution_count": 43,
   "metadata": {},
   "outputs": [],
   "source": [
    "# pickle the list of data\n",
    "# comment out so we dont re run\n",
    "\"\"\"\n",
    "with open('../rap_group_list.pkl', 'wb') as f:\n",
    "    pickle.dump(rap_group_list, f)\n",
    "\"\"\";\n",
    "\n"
   ]
  },
  {
   "cell_type": "code",
   "execution_count": 12,
   "metadata": {},
   "outputs": [],
   "source": [
    "with open('../artist_data/rap_group_list.pkl', 'rb') as f:\n",
    "    rap_group_list = pickle.load(f)"
   ]
  },
  {
   "cell_type": "code",
   "execution_count": 45,
   "metadata": {},
   "outputs": [
    {
     "data": {
      "text/plain": [
       "123"
      ]
     },
     "execution_count": 45,
     "metadata": {},
     "output_type": "execute_result"
    }
   ],
   "source": [
    "len(rap_group_list)"
   ]
  },
  {
   "cell_type": "markdown",
   "metadata": {},
   "source": [
    "# Grab Country Artists\n",
    "\n",
    "[Ranker best country singers of all time](https://www.ranker.com/list/top-country-artists-of-all-time/samantha-dillinger)"
   ]
  },
  {
   "cell_type": "code",
   "execution_count": 87,
   "metadata": {},
   "outputs": [],
   "source": [
    "country_url = \"https://www.ranker.com/list/top-country-artists-of-all-time/samantha-dillinger\""
   ]
  },
  {
   "cell_type": "code",
   "execution_count": 88,
   "metadata": {},
   "outputs": [],
   "source": [
    "country_singer_list=get_ranker_list_as_dict(country_url)"
   ]
  },
  {
   "cell_type": "code",
   "execution_count": 92,
   "metadata": {},
   "outputs": [],
   "source": [
    "# pickle the list of data\n",
    "# comment out so we dont re run\n",
    "\"\"\"\n",
    "with open('../artist_data/country_singer_list.pkl', 'wb') as f:\n",
    "    pickle.dump(country_singer_list, f)\n",
    "\n",
    "\"\"\";"
   ]
  },
  {
   "cell_type": "code",
   "execution_count": 13,
   "metadata": {},
   "outputs": [],
   "source": [
    "with open('../artist_data/country_singer_list.pkl', 'rb') as f:\n",
    "    country_singer_list = pickle.load(f)"
   ]
  },
  {
   "cell_type": "code",
   "execution_count": 91,
   "metadata": {},
   "outputs": [
    {
     "data": {
      "text/plain": [
       "291"
      ]
     },
     "execution_count": 91,
     "metadata": {},
     "output_type": "execute_result"
    }
   ],
   "source": [
    "len(country_singer_list)"
   ]
  },
  {
   "cell_type": "markdown",
   "metadata": {},
   "source": [
    "# Grab Classic Rock \n",
    "[Ranker Top Classic Rock Bands](https://www.ranker.com/crowdranked-list/greatest-classic-rock-bands)"
   ]
  },
  {
   "cell_type": "code",
   "execution_count": 102,
   "metadata": {},
   "outputs": [],
   "source": [
    "classic_rock_url = \"https://www.ranker.com/crowdranked-list/greatest-classic-rock-bands\""
   ]
  },
  {
   "cell_type": "code",
   "execution_count": 103,
   "metadata": {},
   "outputs": [],
   "source": [
    "classic_rock_list=get_ranker_list_as_dict(classic_rock_url)"
   ]
  },
  {
   "cell_type": "code",
   "execution_count": 107,
   "metadata": {},
   "outputs": [],
   "source": [
    "# pickle the list of data\n",
    "# comment out so we dont re run\n",
    "\"\"\"\n",
    "with open('../artist_data/classic_rock_list.pkl', 'wb') as f:\n",
    "    pickle.dump(classic_rock_list, f)\n",
    "\"\"\";"
   ]
  },
  {
   "cell_type": "code",
   "execution_count": 14,
   "metadata": {},
   "outputs": [],
   "source": [
    "with open('../artist_data/classic_rock_list.pkl', 'rb') as f:\n",
    "    classic_rock_list = pickle.load(f)"
   ]
  },
  {
   "cell_type": "code",
   "execution_count": 108,
   "metadata": {},
   "outputs": [
    {
     "data": {
      "text/plain": [
       "263"
      ]
     },
     "execution_count": 108,
     "metadata": {},
     "output_type": "execute_result"
    }
   ],
   "source": [
    "len(classic_rock_list)"
   ]
  },
  {
   "cell_type": "markdown",
   "metadata": {},
   "source": [
    "# Grab Blues \n",
    "[Rankers Blues Pages](https://www.ranker.com/crowdranked-list/the-best-blues-artists-of-all-time?ref=collections_page)"
   ]
  },
  {
   "cell_type": "code",
   "execution_count": 56,
   "metadata": {},
   "outputs": [],
   "source": [
    "blues_url = \"https://www.ranker.com/crowdranked-list/the-best-blues-artists-of-all-time?ref=collections_page\""
   ]
  },
  {
   "cell_type": "code",
   "execution_count": 57,
   "metadata": {},
   "outputs": [],
   "source": [
    "#blues_list=get_ranker_list_as_dict(blues_url)"
   ]
  },
  {
   "cell_type": "code",
   "execution_count": 58,
   "metadata": {},
   "outputs": [],
   "source": [
    "# pickle the list of data\n",
    "# comment out so we dont re run\n",
    "\"\"\"\n",
    "with open('../artist_data/blues_list.pkl', 'wb') as f:\n",
    "    pickle.dump(blues_list, f)\n",
    "\"\"\";"
   ]
  },
  {
   "cell_type": "code",
   "execution_count": 15,
   "metadata": {},
   "outputs": [],
   "source": [
    "with open('../artist_data/blues_list.pkl', 'rb') as f:\n",
    "    blues_list = pickle.load(f)"
   ]
  },
  {
   "cell_type": "code",
   "execution_count": 62,
   "metadata": {},
   "outputs": [
    {
     "data": {
      "text/plain": [
       "225"
      ]
     },
     "execution_count": 62,
     "metadata": {},
     "output_type": "execute_result"
    }
   ],
   "source": [
    "len(blues_list)"
   ]
  },
  {
   "cell_type": "markdown",
   "metadata": {},
   "source": [
    "# Grab Alternative\n",
    "[Rankers Alternative Artists](https://www.ranker.com/list/alternative-bands-and-artists/reference?ref=collections_page)"
   ]
  },
  {
   "cell_type": "code",
   "execution_count": 63,
   "metadata": {},
   "outputs": [],
   "source": [
    "alternative_url = \"https://www.ranker.com/list/alternative-bands-and-artists/reference?ref=collections_page\""
   ]
  },
  {
   "cell_type": "code",
   "execution_count": 64,
   "metadata": {},
   "outputs": [],
   "source": [
    "#alternative_list=get_ranker_list_as_dict(alternative_url)"
   ]
  },
  {
   "cell_type": "code",
   "execution_count": 65,
   "metadata": {},
   "outputs": [],
   "source": [
    "# pickle the list of data\n",
    "# comment out so we dont re run\n",
    "\"\"\"\n",
    "with open('../artist_data/alternative_list.pkl', 'wb') as f:\n",
    "    pickle.dump(alternative_list, f)\n",
    "\"\"\";"
   ]
  },
  {
   "cell_type": "code",
   "execution_count": 16,
   "metadata": {},
   "outputs": [],
   "source": [
    "with open('../artist_data/alternative_list.pkl', 'rb') as f:\n",
    "    alternative_list = pickle.load(f)"
   ]
  },
  {
   "cell_type": "code",
   "execution_count": 67,
   "metadata": {},
   "outputs": [
    {
     "data": {
      "text/plain": [
       "421"
      ]
     },
     "execution_count": 67,
     "metadata": {},
     "output_type": "execute_result"
    }
   ],
   "source": [
    "len(alternative_list)"
   ]
  },
  {
   "cell_type": "markdown",
   "metadata": {},
   "source": [
    "# Check for genre overlap and combine genres"
   ]
  },
  {
   "cell_type": "code",
   "execution_count": 109,
   "metadata": {},
   "outputs": [],
   "source": [
    "artist_dict_list = [\n",
    "(\"Rap/Hip-Hop\", rapper_list),\n",
    "(\"Rap/Hip-Hop\", rap_group_list),\n",
    "(\"Country\", country_singer_list),\n",
    "(\"Blues\", blues_list),\n",
    "(\"Alternative\", alternative_list),\n",
    "(\"Classic Rock\", classic_rock_list)]"
   ]
  },
  {
   "cell_type": "code",
   "execution_count": 54,
   "metadata": {},
   "outputs": [
    {
     "name": "stdout",
     "output_type": "stream",
     "text": [
      "adding genre for Ray Charles\n",
      "new genre: Country, Blues\n",
      "adding genre for Johnny Cash\n",
      "new genre: Country, Blues\n",
      "adding genre for Elvis Presley\n",
      "new genre: Country, Blues\n",
      "adding genre for Beastie Boys\n",
      "new genre: Rap/Hip-Hop, Alternative\n",
      "adding genre for Gorillaz\n",
      "new genre: Rap/Hip-Hop, Alternative\n",
      "adding genre for The Black Keys\n",
      "new genre: Blues, Alternative\n",
      "adding genre for Jack White\n",
      "new genre: Blues, Alternative\n",
      "adding genre for Amy Winehouse\n",
      "new genre: Blues, Alternative\n",
      "adding genre for The Prodigy\n",
      "new genre: Rap/Hip-Hop, Alternative\n",
      "adding genre for The Allman Brothers Band\n",
      "new genre: Blues, Alternative\n",
      "adding genre for Ryan Adams\n",
      "new genre: Country, Alternative\n",
      "adding genre for Old 97's\n",
      "new genre: Country, Alternative\n",
      "adding genre for Led Zeppelin\n",
      "new genre: Alternative, Classic Rock\n",
      "adding genre for Pink Floyd\n",
      "new genre: Alternative, Classic Rock\n",
      "adding genre for The Jimi Hendrix Experience\n",
      "new genre: Alternative, Classic Rock\n",
      "adding genre for Eagles\n",
      "new genre: Country, Classic Rock\n",
      "adding genre for David Bowie\n",
      "new genre: Alternative, Classic Rock\n",
      "adding genre for Lynyrd Skynyrd\n",
      "new genre: Country, Classic Rock\n",
      "adding genre for Eric Clapton\n",
      "new genre: Blues, Classic Rock\n",
      "adding genre for Elvis Presley\n",
      "new genre: Country, Blues, Classic Rock\n",
      "adding genre for Johnny Cash\n",
      "new genre: Country, Blues, Classic Rock\n",
      "adding genre for The Police\n",
      "new genre: Alternative, Classic Rock\n",
      "adding genre for The Allman Brothers Band\n",
      "new genre: Blues, Alternative, Classic Rock\n",
      "adding genre for Blondie\n",
      "new genre: Alternative, Classic Rock\n",
      "adding genre for Stevie Ray Vaughan\n",
      "new genre: Blues, Classic Rock\n",
      "adding genre for The Cars\n",
      "new genre: Alternative, Classic Rock\n",
      "adding genre for Steve Miller Band\n",
      "new genre: Alternative, Classic Rock\n",
      "adding genre for Janis Joplin\n",
      "new genre: Blues, Classic Rock\n",
      "adding genre for The Clash\n",
      "new genre: Alternative, Classic Rock\n",
      "adding genre for Roy Orbison\n",
      "new genre: Country, Classic Rock\n",
      "adding genre for Ramones\n",
      "new genre: Alternative, Classic Rock\n",
      "adding genre for Van Morrison\n",
      "new genre: Blues, Classic Rock\n",
      "adding genre for Ricky Nelson\n",
      "new genre: Country, Classic Rock\n",
      "adding genre for Otis Redding\n",
      "new genre: Blues, Classic Rock\n",
      "adding genre for Willie Nelson\n",
      "new genre: Country, Classic Rock\n",
      "adding genre for Muddy Waters\n",
      "new genre: Blues, Classic Rock\n",
      "adding genre for Tina Turner\n",
      "new genre: Blues, Classic Rock\n",
      "adding genre for The B-52's\n",
      "new genre: Alternative, Classic Rock\n",
      "adding genre for The Zombies\n",
      "new genre: Alternative, Classic Rock\n",
      "adding genre for King Crimson\n",
      "new genre: Alternative, Classic Rock\n",
      "adding genre for The Cure\n",
      "new genre: Alternative, Classic Rock\n",
      "adding genre for Jerry Lee Lewis\n",
      "new genre: Country, Classic Rock\n",
      "adding genre for Gregg Allman\n",
      "new genre: Blues, Classic Rock\n",
      "adding genre for Sex Pistols\n",
      "new genre: Alternative, Classic Rock\n",
      "adding genre for The White Stripes\n",
      "new genre: Alternative, Classic Rock\n",
      "adding genre for Rage Against the Machine\n",
      "new genre: Alternative, Classic Rock\n",
      "adding genre for The Velvet Underground\n",
      "new genre: Alternative, Classic Rock\n",
      "adding genre for Canned Heat\n",
      "new genre: Blues, Classic Rock\n",
      "adding genre for Alabama\n",
      "new genre: Country, Classic Rock\n",
      "adding genre for Johnny Winter\n",
      "new genre: Blues, Classic Rock\n",
      "adding genre for Rory Gallagher\n",
      "new genre: Blues, Classic Rock\n",
      "adding genre for Roxy Music\n",
      "new genre: Alternative, Classic Rock\n",
      "adding genre for Merle Haggard\n",
      "new genre: Country, Classic Rock\n",
      "adding genre for Depeche Mode\n",
      "new genre: Alternative, Classic Rock\n",
      "adding genre for Gary Moore\n",
      "new genre: Blues, Classic Rock\n",
      "adding genre for Jack White\n",
      "new genre: Blues, Alternative, Classic Rock\n",
      "adding genre for The Paul Butterfield Blues Band\n",
      "new genre: Blues, Classic Rock\n",
      "adding genre for The Arcana\n",
      "new genre: Alternative, Classic Rock\n",
      "adding genre for Oasis\n",
      "new genre: Alternative, Classic Rock\n",
      "adding genre for System of a Down\n",
      "new genre: Alternative, Classic Rock\n"
     ]
    }
   ],
   "source": [
    "artist_genre_dictionary = {}\n",
    "for genre, artist_list in artist_dict_list:\n",
    "    for artist in artist_list:\n",
    "        name = artist[\"name\"]\n",
    "        if name in artist_genre_dictionary.keys():\n",
    "            print(\"adding genre for {}\".format(name))\n",
    "            new_genre = artist_genre_dictionary[name] + \", \" + genre\n",
    "            print(\"new genre: {}\".format(new_genre))\n",
    "            artist_genre_dictionary[name] = new_genre\n",
    "        else:\n",
    "            artist_genre_dictionary[name] = genre"
   ]
  },
  {
   "cell_type": "code",
   "execution_count": 55,
   "metadata": {},
   "outputs": [
    {
     "data": {
      "text/plain": [
       "1486"
      ]
     },
     "execution_count": 55,
     "metadata": {},
     "output_type": "execute_result"
    }
   ],
   "source": [
    "len(artist_genre_dictionary.keys())"
   ]
  },
  {
   "cell_type": "code",
   "execution_count": 56,
   "metadata": {},
   "outputs": [],
   "source": [
    "\"\"\"\n",
    "with open('../artist_data/artist_genre_dictionary.pkl', 'wb') as f:\n",
    "    pickle.dump(artist_genre_dictionary, f)\n",
    "\"\"\";"
   ]
  },
  {
   "cell_type": "code",
   "execution_count": 17,
   "metadata": {},
   "outputs": [],
   "source": [
    "with open('../artist_data/artist_genre_dictionary.pkl', 'rb') as f:\n",
    "    artist_genre_dictionary = pickle.load(f)"
   ]
  },
  {
   "cell_type": "markdown",
   "metadata": {},
   "source": [
    "# Create DataFrame"
   ]
  },
  {
   "cell_type": "markdown",
   "metadata": {},
   "source": [
    "To put the data in my database Im going to a make a dataframe and put that in\n",
    "create a dataframe using:  artist_name, artist_genre artist_picture_ranker_url ranker_ranking"
   ]
  },
  {
   "cell_type": "markdown",
   "metadata": {},
   "source": [
    "I commeneted this out because I saved the data frame and dont ant to accidentally overrite it"
   ]
  },
  {
   "cell_type": "code",
   "execution_count": 72,
   "metadata": {},
   "outputs": [],
   "source": [
    "# create the df\n",
    "\"\"\"\n",
    "artist_df = pd.DataFrame(list(artist_genre_dictionary.items()), columns =['artist_name', 'genre']) \n",
    "artist_df.head()\n",
    "\"\"\""
   ]
  },
  {
   "cell_type": "code",
   "execution_count": 74,
   "metadata": {},
   "outputs": [],
   "source": [
    "# we want to add picture and ranking "
   ]
  },
  {
   "cell_type": "code",
   "execution_count": 2,
   "metadata": {},
   "outputs": [],
   "source": [
    "# initialize with nans\n",
    "\"\"\"\n",
    "artist_df[\"artist_picture_ranker_url\"] = np.nan\n",
    "artist_df[\"artist_picture_genius_url\"] = np.nan\n",
    "artist_df[\"ranker_ranking\"] = np.nan\n",
    "\"\"\";"
   ]
  },
  {
   "cell_type": "code",
   "execution_count": 3,
   "metadata": {},
   "outputs": [],
   "source": [
    "\"\"\"\n",
    "# loop through out artist dicts and add the info to the dataframe\n",
    "for genre_list in artist_dict_list: \n",
    "    for artist in genre_list[1]:\n",
    "        name = artist[\"name\"]\n",
    "        image = artist[\"picture_url\"]\n",
    "        ranking = artist[\"ranker_ranking\"]\n",
    "        artist_df.loc[artist_df[\"artist_name\"] == name, \"artist_picture_ranker_url\"] = image\n",
    "        artist_df.loc[artist_df[\"artist_name\"] == name, \"ranker_ranking\"] = ranking\n",
    "\"\"\";"
   ]
  },
  {
   "cell_type": "code",
   "execution_count": 111,
   "metadata": {},
   "outputs": [
    {
     "data": {
      "text/html": [
       "<div>\n",
       "<style scoped>\n",
       "    .dataframe tbody tr th:only-of-type {\n",
       "        vertical-align: middle;\n",
       "    }\n",
       "\n",
       "    .dataframe tbody tr th {\n",
       "        vertical-align: top;\n",
       "    }\n",
       "\n",
       "    .dataframe thead th {\n",
       "        text-align: right;\n",
       "    }\n",
       "</style>\n",
       "<table border=\"1\" class=\"dataframe\">\n",
       "  <thead>\n",
       "    <tr style=\"text-align: right;\">\n",
       "      <th></th>\n",
       "      <th>artist_name</th>\n",
       "      <th>genre</th>\n",
       "      <th>artist_picture_ranker_url</th>\n",
       "      <th>artist_picture_genius_url</th>\n",
       "      <th>ranker_ranking</th>\n",
       "    </tr>\n",
       "  </thead>\n",
       "  <tbody>\n",
       "    <tr>\n",
       "      <td>0</td>\n",
       "      <td>Tupac</td>\n",
       "      <td>Rap/Hip-Hop</td>\n",
       "      <td>https://imgix.ranker.com/user_node_img/115/228...</td>\n",
       "      <td>NaN</td>\n",
       "      <td>0.0</td>\n",
       "    </tr>\n",
       "    <tr>\n",
       "      <td>1</td>\n",
       "      <td>The Notorious B.I.G.</td>\n",
       "      <td>Rap/Hip-Hop</td>\n",
       "      <td>https://imgix.ranker.com/user_node_img/111/221...</td>\n",
       "      <td>NaN</td>\n",
       "      <td>1.0</td>\n",
       "    </tr>\n",
       "    <tr>\n",
       "      <td>2</td>\n",
       "      <td>Eminem</td>\n",
       "      <td>Rap/Hip-Hop</td>\n",
       "      <td>https://imgix.ranker.com/user_node_img/47/9378...</td>\n",
       "      <td>NaN</td>\n",
       "      <td>2.0</td>\n",
       "    </tr>\n",
       "    <tr>\n",
       "      <td>3</td>\n",
       "      <td>Kendrick Lamar</td>\n",
       "      <td>Rap/Hip-Hop</td>\n",
       "      <td>https://imgix.ranker.com/user_node_img/3107/62...</td>\n",
       "      <td>NaN</td>\n",
       "      <td>3.0</td>\n",
       "    </tr>\n",
       "    <tr>\n",
       "      <td>4</td>\n",
       "      <td>Dr. Dre</td>\n",
       "      <td>Rap/Hip-Hop</td>\n",
       "      <td>https://imgix.ranker.com/user_node_img/45/8916...</td>\n",
       "      <td>NaN</td>\n",
       "      <td>4.0</td>\n",
       "    </tr>\n",
       "    <tr>\n",
       "      <td>...</td>\n",
       "      <td>...</td>\n",
       "      <td>...</td>\n",
       "      <td>...</td>\n",
       "      <td>...</td>\n",
       "      <td>...</td>\n",
       "    </tr>\n",
       "    <tr>\n",
       "      <td>1481</td>\n",
       "      <td>Gentle Giant</td>\n",
       "      <td>Classic Rock</td>\n",
       "      <td>https://imgix.ranker.com/node_img/53/1053647/o...</td>\n",
       "      <td>NaN</td>\n",
       "      <td>258.0</td>\n",
       "    </tr>\n",
       "    <tr>\n",
       "      <td>1482</td>\n",
       "      <td>Camel</td>\n",
       "      <td>Classic Rock</td>\n",
       "      <td>https://imgix.ranker.com/user_node_img/125/249...</td>\n",
       "      <td>NaN</td>\n",
       "      <td>259.0</td>\n",
       "    </tr>\n",
       "    <tr>\n",
       "      <td>1483</td>\n",
       "      <td>Strawberry Alarm Clock</td>\n",
       "      <td>Classic Rock</td>\n",
       "      <td>https://imgix.ranker.com/node_img/106/2104252/...</td>\n",
       "      <td>NaN</td>\n",
       "      <td>260.0</td>\n",
       "    </tr>\n",
       "    <tr>\n",
       "      <td>1484</td>\n",
       "      <td>MC5</td>\n",
       "      <td>Classic Rock</td>\n",
       "      <td>https://imgix.ranker.com/user_node_img/78/1550...</td>\n",
       "      <td>NaN</td>\n",
       "      <td>261.0</td>\n",
       "    </tr>\n",
       "    <tr>\n",
       "      <td>1485</td>\n",
       "      <td>Crack the Sky</td>\n",
       "      <td>Classic Rock</td>\n",
       "      <td>https://imgix.ranker.com/node_img/40/783641/or...</td>\n",
       "      <td>NaN</td>\n",
       "      <td>262.0</td>\n",
       "    </tr>\n",
       "  </tbody>\n",
       "</table>\n",
       "<p>1486 rows × 5 columns</p>\n",
       "</div>"
      ],
      "text/plain": [
       "                 artist_name         genre  \\\n",
       "0                      Tupac   Rap/Hip-Hop   \n",
       "1       The Notorious B.I.G.   Rap/Hip-Hop   \n",
       "2                     Eminem   Rap/Hip-Hop   \n",
       "3             Kendrick Lamar   Rap/Hip-Hop   \n",
       "4                    Dr. Dre   Rap/Hip-Hop   \n",
       "...                      ...           ...   \n",
       "1481            Gentle Giant  Classic Rock   \n",
       "1482                   Camel  Classic Rock   \n",
       "1483  Strawberry Alarm Clock  Classic Rock   \n",
       "1484                     MC5  Classic Rock   \n",
       "1485           Crack the Sky  Classic Rock   \n",
       "\n",
       "                              artist_picture_ranker_url  \\\n",
       "0     https://imgix.ranker.com/user_node_img/115/228...   \n",
       "1     https://imgix.ranker.com/user_node_img/111/221...   \n",
       "2     https://imgix.ranker.com/user_node_img/47/9378...   \n",
       "3     https://imgix.ranker.com/user_node_img/3107/62...   \n",
       "4     https://imgix.ranker.com/user_node_img/45/8916...   \n",
       "...                                                 ...   \n",
       "1481  https://imgix.ranker.com/node_img/53/1053647/o...   \n",
       "1482  https://imgix.ranker.com/user_node_img/125/249...   \n",
       "1483  https://imgix.ranker.com/node_img/106/2104252/...   \n",
       "1484  https://imgix.ranker.com/user_node_img/78/1550...   \n",
       "1485  https://imgix.ranker.com/node_img/40/783641/or...   \n",
       "\n",
       "      artist_picture_genius_url  ranker_ranking  \n",
       "0                           NaN             0.0  \n",
       "1                           NaN             1.0  \n",
       "2                           NaN             2.0  \n",
       "3                           NaN             3.0  \n",
       "4                           NaN             4.0  \n",
       "...                         ...             ...  \n",
       "1481                        NaN           258.0  \n",
       "1482                        NaN           259.0  \n",
       "1483                        NaN           260.0  \n",
       "1484                        NaN           261.0  \n",
       "1485                        NaN           262.0  \n",
       "\n",
       "[1486 rows x 5 columns]"
      ]
     },
     "execution_count": 111,
     "metadata": {},
     "output_type": "execute_result"
    }
   ],
   "source": [
    "artist_df"
   ]
  },
  {
   "cell_type": "code",
   "execution_count": 112,
   "metadata": {},
   "outputs": [
    {
     "name": "stdout",
     "output_type": "stream",
     "text": [
      "<class 'pandas.core.frame.DataFrame'>\n",
      "RangeIndex: 1486 entries, 0 to 1485\n",
      "Data columns (total 5 columns):\n",
      "artist_name                  1486 non-null object\n",
      "genre                        1486 non-null object\n",
      "artist_picture_ranker_url    1486 non-null object\n",
      "artist_picture_genius_url    0 non-null float64\n",
      "ranker_ranking               1486 non-null float64\n",
      "dtypes: float64(2), object(3)\n",
      "memory usage: 58.2+ KB\n"
     ]
    }
   ],
   "source": [
    "with open('../artist_data/artist_dataframe.pkl', 'rb') as f:\n",
    "    artist_df = pickle.load(f)"
   ]
  },
  {
   "cell_type": "code",
   "execution_count": 118,
   "metadata": {},
   "outputs": [
    {
     "data": {
      "text/plain": [
       "True"
      ]
     },
     "execution_count": 118,
     "metadata": {},
     "output_type": "execute_result"
    }
   ],
   "source": [
    "len(artist_df[\"artist_name\"].unique()) == artist_df.shape[0]"
   ]
  },
  {
   "cell_type": "markdown",
   "metadata": {},
   "source": [
    "Every column is full and there are no duplicate artists, thats good. Let move to a database"
   ]
  },
  {
   "cell_type": "code",
   "execution_count": 119,
   "metadata": {},
   "outputs": [],
   "source": [
    "\"\"\"\n",
    "with open('../artist_data/artist_dataframe.pkl', 'wb') as f:\n",
    "    pickle.dump(artist_df, f)\n",
    "\"\"\""
   ]
  },
  {
   "cell_type": "markdown",
   "metadata": {},
   "source": [
    "# Create Database"
   ]
  },
  {
   "cell_type": "markdown",
   "metadata": {},
   "source": [
    "### Put the dataframe into a table in my databse"
   ]
  },
  {
   "cell_type": "code",
   "execution_count": 18,
   "metadata": {},
   "outputs": [],
   "source": [
    "with open('../artist_data/artist_dataframe.pkl', 'rb') as f:\n",
    "    artist_df = pickle.load(f)"
   ]
  },
  {
   "cell_type": "code",
   "execution_count": 20,
   "metadata": {},
   "outputs": [],
   "source": [
    "# Postgres info to connect\n",
    "connection_args = {\n",
    "    'host': 'localhost',  \n",
    "    'dbname': 'lyricsdb',  \n",
    "}\n",
    "\n",
    "connection = pg.connect(**connection_args)"
   ]
  },
  {
   "cell_type": "code",
   "execution_count": 128,
   "metadata": {},
   "outputs": [],
   "source": [
    "cursor = connection.cursor()"
   ]
  },
  {
   "cell_type": "code",
   "execution_count": 142,
   "metadata": {},
   "outputs": [],
   "source": [
    "\"\"\"\n",
    "engine = create_engine('postgresql://localhost:5432/lyricsdb')\n",
    "artist_df.to_sql('Artist', engine)\n",
    "\"\"\";"
   ]
  },
  {
   "cell_type": "code",
   "execution_count": 27,
   "metadata": {},
   "outputs": [],
   "source": [
    "query = 'SELECT * FROM artists;'\n",
    "\n",
    "target_df = pd.read_sql(query, connection)"
   ]
  },
  {
   "cell_type": "code",
   "execution_count": 28,
   "metadata": {},
   "outputs": [
    {
     "data": {
      "text/html": [
       "<div>\n",
       "<style scoped>\n",
       "    .dataframe tbody tr th:only-of-type {\n",
       "        vertical-align: middle;\n",
       "    }\n",
       "\n",
       "    .dataframe tbody tr th {\n",
       "        vertical-align: top;\n",
       "    }\n",
       "\n",
       "    .dataframe thead th {\n",
       "        text-align: right;\n",
       "    }\n",
       "</style>\n",
       "<table border=\"1\" class=\"dataframe\">\n",
       "  <thead>\n",
       "    <tr style=\"text-align: right;\">\n",
       "      <th></th>\n",
       "      <th>index</th>\n",
       "      <th>artist_name</th>\n",
       "      <th>genre</th>\n",
       "      <th>artist_picture_ranker_url</th>\n",
       "      <th>artist_picture_genius_url</th>\n",
       "      <th>ranker_ranking</th>\n",
       "    </tr>\n",
       "  </thead>\n",
       "  <tbody>\n",
       "    <tr>\n",
       "      <td>0</td>\n",
       "      <td>0</td>\n",
       "      <td>Tupac</td>\n",
       "      <td>Rap/Hip-Hop</td>\n",
       "      <td>https://imgix.ranker.com/user_node_img/115/228...</td>\n",
       "      <td>None</td>\n",
       "      <td>0.0</td>\n",
       "    </tr>\n",
       "    <tr>\n",
       "      <td>1</td>\n",
       "      <td>1</td>\n",
       "      <td>The Notorious B.I.G.</td>\n",
       "      <td>Rap/Hip-Hop</td>\n",
       "      <td>https://imgix.ranker.com/user_node_img/111/221...</td>\n",
       "      <td>None</td>\n",
       "      <td>1.0</td>\n",
       "    </tr>\n",
       "    <tr>\n",
       "      <td>2</td>\n",
       "      <td>2</td>\n",
       "      <td>Eminem</td>\n",
       "      <td>Rap/Hip-Hop</td>\n",
       "      <td>https://imgix.ranker.com/user_node_img/47/9378...</td>\n",
       "      <td>None</td>\n",
       "      <td>2.0</td>\n",
       "    </tr>\n",
       "    <tr>\n",
       "      <td>3</td>\n",
       "      <td>3</td>\n",
       "      <td>Kendrick Lamar</td>\n",
       "      <td>Rap/Hip-Hop</td>\n",
       "      <td>https://imgix.ranker.com/user_node_img/3107/62...</td>\n",
       "      <td>None</td>\n",
       "      <td>3.0</td>\n",
       "    </tr>\n",
       "    <tr>\n",
       "      <td>4</td>\n",
       "      <td>4</td>\n",
       "      <td>Dr. Dre</td>\n",
       "      <td>Rap/Hip-Hop</td>\n",
       "      <td>https://imgix.ranker.com/user_node_img/45/8916...</td>\n",
       "      <td>None</td>\n",
       "      <td>4.0</td>\n",
       "    </tr>\n",
       "    <tr>\n",
       "      <td>...</td>\n",
       "      <td>...</td>\n",
       "      <td>...</td>\n",
       "      <td>...</td>\n",
       "      <td>...</td>\n",
       "      <td>...</td>\n",
       "      <td>...</td>\n",
       "    </tr>\n",
       "    <tr>\n",
       "      <td>1481</td>\n",
       "      <td>1481</td>\n",
       "      <td>Gentle Giant</td>\n",
       "      <td>Classic Rock</td>\n",
       "      <td>https://imgix.ranker.com/node_img/53/1053647/o...</td>\n",
       "      <td>None</td>\n",
       "      <td>258.0</td>\n",
       "    </tr>\n",
       "    <tr>\n",
       "      <td>1482</td>\n",
       "      <td>1482</td>\n",
       "      <td>Camel</td>\n",
       "      <td>Classic Rock</td>\n",
       "      <td>https://imgix.ranker.com/user_node_img/125/249...</td>\n",
       "      <td>None</td>\n",
       "      <td>259.0</td>\n",
       "    </tr>\n",
       "    <tr>\n",
       "      <td>1483</td>\n",
       "      <td>1483</td>\n",
       "      <td>Strawberry Alarm Clock</td>\n",
       "      <td>Classic Rock</td>\n",
       "      <td>https://imgix.ranker.com/node_img/106/2104252/...</td>\n",
       "      <td>None</td>\n",
       "      <td>260.0</td>\n",
       "    </tr>\n",
       "    <tr>\n",
       "      <td>1484</td>\n",
       "      <td>1484</td>\n",
       "      <td>MC5</td>\n",
       "      <td>Classic Rock</td>\n",
       "      <td>https://imgix.ranker.com/user_node_img/78/1550...</td>\n",
       "      <td>None</td>\n",
       "      <td>261.0</td>\n",
       "    </tr>\n",
       "    <tr>\n",
       "      <td>1485</td>\n",
       "      <td>1485</td>\n",
       "      <td>Crack the Sky</td>\n",
       "      <td>Classic Rock</td>\n",
       "      <td>https://imgix.ranker.com/node_img/40/783641/or...</td>\n",
       "      <td>None</td>\n",
       "      <td>262.0</td>\n",
       "    </tr>\n",
       "  </tbody>\n",
       "</table>\n",
       "<p>1486 rows × 6 columns</p>\n",
       "</div>"
      ],
      "text/plain": [
       "      index             artist_name         genre  \\\n",
       "0         0                   Tupac   Rap/Hip-Hop   \n",
       "1         1    The Notorious B.I.G.   Rap/Hip-Hop   \n",
       "2         2                  Eminem   Rap/Hip-Hop   \n",
       "3         3          Kendrick Lamar   Rap/Hip-Hop   \n",
       "4         4                 Dr. Dre   Rap/Hip-Hop   \n",
       "...     ...                     ...           ...   \n",
       "1481   1481            Gentle Giant  Classic Rock   \n",
       "1482   1482                   Camel  Classic Rock   \n",
       "1483   1483  Strawberry Alarm Clock  Classic Rock   \n",
       "1484   1484                     MC5  Classic Rock   \n",
       "1485   1485           Crack the Sky  Classic Rock   \n",
       "\n",
       "                              artist_picture_ranker_url  \\\n",
       "0     https://imgix.ranker.com/user_node_img/115/228...   \n",
       "1     https://imgix.ranker.com/user_node_img/111/221...   \n",
       "2     https://imgix.ranker.com/user_node_img/47/9378...   \n",
       "3     https://imgix.ranker.com/user_node_img/3107/62...   \n",
       "4     https://imgix.ranker.com/user_node_img/45/8916...   \n",
       "...                                                 ...   \n",
       "1481  https://imgix.ranker.com/node_img/53/1053647/o...   \n",
       "1482  https://imgix.ranker.com/user_node_img/125/249...   \n",
       "1483  https://imgix.ranker.com/node_img/106/2104252/...   \n",
       "1484  https://imgix.ranker.com/user_node_img/78/1550...   \n",
       "1485  https://imgix.ranker.com/node_img/40/783641/or...   \n",
       "\n",
       "     artist_picture_genius_url  ranker_ranking  \n",
       "0                         None             0.0  \n",
       "1                         None             1.0  \n",
       "2                         None             2.0  \n",
       "3                         None             3.0  \n",
       "4                         None             4.0  \n",
       "...                        ...             ...  \n",
       "1481                      None           258.0  \n",
       "1482                      None           259.0  \n",
       "1483                      None           260.0  \n",
       "1484                      None           261.0  \n",
       "1485                      None           262.0  \n",
       "\n",
       "[1486 rows x 6 columns]"
      ]
     },
     "execution_count": 28,
     "metadata": {},
     "output_type": "execute_result"
    }
   ],
   "source": [
    "target_df"
   ]
  },
  {
   "cell_type": "markdown",
   "metadata": {},
   "source": [
    "# it works!!!"
   ]
  },
  {
   "cell_type": "code",
   "execution_count": null,
   "metadata": {},
   "outputs": [],
   "source": []
  },
  {
   "cell_type": "code",
   "execution_count": null,
   "metadata": {},
   "outputs": [],
   "source": []
  },
  {
   "cell_type": "code",
   "execution_count": null,
   "metadata": {},
   "outputs": [],
   "source": []
  },
  {
   "cell_type": "code",
   "execution_count": null,
   "metadata": {},
   "outputs": [],
   "source": []
  }
 ],
 "metadata": {
  "kernelspec": {
   "display_name": "Python 3",
   "language": "python",
   "name": "python3"
  },
  "language_info": {
   "codemirror_mode": {
    "name": "ipython",
    "version": 3
   },
   "file_extension": ".py",
   "mimetype": "text/x-python",
   "name": "python",
   "nbconvert_exporter": "python",
   "pygments_lexer": "ipython3",
   "version": "3.7.4"
  }
 },
 "nbformat": 4,
 "nbformat_minor": 2
}
